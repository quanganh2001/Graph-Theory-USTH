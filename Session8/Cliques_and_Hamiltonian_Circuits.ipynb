{
  "nbformat": 4,
  "nbformat_minor": 0,
  "metadata": {
    "colab": {
      "provenance": []
    },
    "kernelspec": {
      "name": "python3",
      "display_name": "Python 3"
    },
    "language_info": {
      "name": "python"
    }
  },
  "cells": [
    {
      "cell_type": "markdown",
      "source": [
        "# 1. Cliques\n",
        "Here is the following Python code:\n",
        "```python\n",
        "import networkx as nx\n",
        "\n",
        "def find_cliques_n(graph, n):\n",
        "   # Your code to find all cliques of size n in the graph\n",
        "   # Hint: Use nx.find_cliques(graph) and filter by size\n",
        "   pass\n",
        "\n",
        "# Example usage\n",
        "G = nx.Graph()\n",
        "# Add edges to G (or generate a small random graph)\n",
        "# find_cliques_n(G, n)\n",
        "```\n",
        "\n",
        "Write a program to find all the cliques of size `n` in a given graph.\n",
        "\n",
        "1. Use NetworkX to create a graph and add edges.\n",
        "2. Implement a function to find all cliques of a specific size.\n",
        "3. Test the function with a graph and a given clique size `n`.\n",
        "4. Using some simple random graphs, discuss how is the computation time growing with `n`"
      ],
      "metadata": {
        "id": "cH6-FU-_jnRG"
      }
    },
    {
      "cell_type": "code",
      "source": [
        "import networkx as nx\n",
        "\n",
        "def find_cliques_n(graph, n):\n",
        "    cliques = [clique for clique in nx.find_cliques(graph) if len(clique) == n]\n",
        "    return cliques\n",
        "\n",
        "# Example usage\n",
        "G = nx.Graph()\n",
        "# Add edges to G (or generate a small random graph)\n",
        "# For example:\n",
        "# G.add_edges_from([(1, 2), (1, 3), (2, 3), (3, 4), (4, 5)])\n",
        "\n",
        "n = 3  # Set the desired clique size\n",
        "cliques_of_size_n = find_cliques_n(G, n)\n",
        "print(f\"All cliques of size {n}: {cliques_of_size_n}\")"
      ],
      "metadata": {
        "colab": {
          "base_uri": "https://localhost:8080/"
        },
        "id": "dRewrGk4dN78",
        "outputId": "fcc5f22e-ff90-4cab-a19e-02333afafcc4"
      },
      "execution_count": null,
      "outputs": [
        {
          "output_type": "stream",
          "name": "stdout",
          "text": [
            "[]\n"
          ]
        }
      ]
    },
    {
      "cell_type": "code",
      "source": [
        "import time\n",
        "\n",
        "# Generate a random graph with 20 nodes and probability of edge creation p=0.3\n",
        "random_graph = nx.erdos_renyi_graph(20, 0.3)\n",
        "\n",
        "# Test find_cliques_n function with different values of n\n",
        "for n in range(2, 6):\n",
        "    start_time = time.time()\n",
        "    cliques_of_size_n = find_cliques_n(random_graph, n)\n",
        "    elapsed_time = time.time() - start_time\n",
        "    print(f\"Time taken for n={n}: {elapsed_time:.6f} seconds\")\n",
        "    print(f\"All cliques of size {n}: {cliques_of_size_n}\\n\")\n"
      ],
      "metadata": {
        "colab": {
          "base_uri": "https://localhost:8080/"
        },
        "id": "QESm1ELTdzwZ",
        "outputId": "a7a858f6-9a01-4d8e-f153-98571822046e"
      },
      "execution_count": null,
      "outputs": [
        {
          "output_type": "stream",
          "name": "stdout",
          "text": [
            "Time taken for n=2: 0.000260 seconds\n",
            "All cliques of size 2: [[3, 7], [5, 19], [5, 4], [6, 10], [6, 7], [8, 2], [8, 7], [8, 12], [11, 16], [11, 2], [11, 10], [13, 16], [13, 2], [13, 12], [14, 10], [14, 7], [15, 2], [15, 12], [16, 7]]\n",
            "\n",
            "Time taken for n=3: 0.000189 seconds\n",
            "All cliques of size 3: [[3, 0, 17], [3, 12, 5], [6, 9, 19], [8, 4, 0], [8, 10, 18], [8, 19, 0], [8, 19, 1], [8, 19, 18], [9, 18, 19], [9, 12, 11], [9, 12, 14], [15, 17, 16], [15, 17, 1], [16, 18, 17], [17, 10, 18], [17, 19, 0], [17, 19, 1], [17, 19, 18]]\n",
            "\n",
            "Time taken for n=4: 0.000232 seconds\n",
            "All cliques of size 4: []\n",
            "\n",
            "Time taken for n=5: 0.000342 seconds\n",
            "All cliques of size 5: []\n",
            "\n"
          ]
        }
      ]
    },
    {
      "cell_type": "markdown",
      "source": [
        "# 2. Hamiltonian Circuits\n",
        "A Hamiltonian circuit in a graph is a path that visits each vertex exactly once and returns to the starting vertex. Determining whether such a circuit exists in a given graph is NP-Complete.\n",
        "\n",
        "We propose a program to find a Hamiltonian circuit in a given graph, if it exists, based on a backtracking algorithm: see source file hamilton.py.\n",
        "\n",
        "Answer the following questions:\n",
        "\n",
        "1. What is the value returned by `find_hamiltonian_circuit` (type and possible values)\n",
        "2. How is the backtracking implemented ? Explain the relevant line(s) of code.\n",
        "3. Run the program on various small graph. Plot the results and check if the solutions are correct (check also with graphs for which no hamiltonian path exist)\n",
        "4. Modify the code to count the number of times `hamiltonian_circuit_util` is called (eg using a global variable). Then try running on graphs with various values of n and look how the number of calls is growing with n. Discuss your results.\n",
        "\n",
        "**Hint**: to generate simple random graph for this exercise, you can use `random_regular_graph`, for instance:\n",
        "\n",
        "```python\n",
        "# Random graph\n",
        "# Create a d-regular random graph\n",
        "d = 3  # Degree of each vertex\n",
        "n = 30  # Number of nodes\n",
        "\n",
        "# Use a seed for reproducibility\n",
        "G = nx.random_graphs.random_regular_graph(d, n, seed=42)\n",
        "```"
      ],
      "metadata": {
        "id": "4UWlJRj2j7Us"
      }
    },
    {
      "cell_type": "code",
      "source": [
        "!wget https://moodle.usth.edu.vn/pluginfile.php/58242/mod_assign/introattachment/0/hamilton.py?forcedownload=1"
      ],
      "metadata": {
        "id": "9PwczNnYkFlX"
      },
      "execution_count": null,
      "outputs": []
    },
    {
      "cell_type": "markdown",
      "source": [
        "1. The `find_hamiltonian_circuit` function returns an optional list of integers. The possible values it can return are:\n",
        "   - If a Hamiltonian circuit exists in the given graph, it returns a list of vertices representing the Hamiltonian circuit.\n",
        "   - If no Hamiltonian circuit exists, it returns `None`.\n",
        "\n",
        "2. The backtracking algorithm is implemented in the `hamiltonian_circuit_util` function. Here's an explanation of the relevant lines of code:\n",
        "\n",
        "   - Line 13: The base case is defined. If all vertices are in the path and there is an edge from the last included vertex to the first vertex, it means a Hamiltonian circuit has been found, so the function returns `True`.\n",
        "\n",
        "   - Lines 16-18: It tries different vertices as the next candidate in the Hamiltonian circuit. If a vertex is a valid candidate (adjacent to the last vertex in the path and not already included in the path), it is added to the path at the current position (`path[pos] = v`). Then, the `hamiltonian_circuit_util` function is recursively called with the updated path and the next position (`pos + 1`).\n",
        "\n",
        "   - Line 20: If the recursive call to `hamiltonian_circuit_util` returns `True`, it means a Hamiltonian circuit has been found, so the function immediately returns `True`.\n",
        "\n",
        "   - Line 22: If the current vertex doesn't lead to a solution, it is removed from the path (`path[pos] = -1`), and the algorithm backtracks to try other vertices.\n",
        "\n",
        "   - Line 25: If no Hamiltonian circuit is found after trying all possible vertices, the function returns `False`.\n",
        "\n",
        "3. To run the program on various small graphs, you can create random graphs using the `random_regular_graph` function from the `networkx` library. Here's an example:"
      ],
      "metadata": {
        "id": "jOGVQiYXkMm6"
      }
    },
    {
      "cell_type": "code",
      "source": [
        "import networkx as nx\n",
        "import matplotlib.pyplot as plt\n",
        "from hamilton import find_hamiltonian_circuit\n",
        "\n",
        "# Create a random graph\n",
        "G = nx.random_graphs.random_regular_graph(3, 6, seed=42)\n",
        "\n",
        "# Find the Hamiltonian circuit\n",
        "path = find_hamiltonian_circuit(G)\n",
        "\n",
        "# Plot the graph and the Hamiltonian circuit\n",
        "nx.draw(G, with_labels=True)\n",
        "plt.title(\"Graph\")\n",
        "plt.show()\n",
        "\n",
        "if path:\n",
        "    print(\"Hamiltonian circuit:\", path)\n",
        "else:\n",
        "    print(\"No Hamiltonian circuit exists\")"
      ],
      "metadata": {
        "colab": {
          "base_uri": "https://localhost:8080/",
          "height": 581
        },
        "id": "7pi6J32vkJz3",
        "outputId": "79c1f58e-a44f-4a73-dc3c-bc8a9f3e76ce"
      },
      "execution_count": null,
      "outputs": [
        {
          "output_type": "stream",
          "name": "stdout",
          "text": [
            "Hamiltonian circuit exists:\n",
            " [0, 1, 2, 5, 3, 4, 0]\n"
          ]
        },
        {
          "output_type": "display_data",
          "data": {
            "text/plain": [
              "<Figure size 640x480 with 1 Axes>"
            ],
            "image/png": "[encoded data removed]"
          },
          "metadata": {}
        },
        {
          "output_type": "stream",
          "name": "stdout",
          "text": [
            "Hamiltonian circuit: [0, 1, 2, 5, 3, 4, 0]\n"
          ]
        }
      ]
    },
    {
      "cell_type": "markdown",
      "source": [
        "4. To modify the code to count the number of times `hamiltonian_circuit_util` is called, you can add a global variable `call_count` and increment it each time the function is invoked. Here's an example:"
      ],
      "metadata": {
        "id": "IuOkocVrkdw1"
      }
    },
    {
      "cell_type": "code",
      "source": [
        "call_count = 0 # Global variable to count the number of calls"
      ],
      "metadata": {
        "id": "COoCFRqTklo5"
      },
      "execution_count": null,
      "outputs": []
    },
    {
      "cell_type": "code",
      "source": [
        "from hamilton import find_hamiltonian_circuit\n",
        "# Example usage\n",
        "G = nx.Graph([(0, 1), (0, 2), (1, 2), (2, 3), (3, 0)])\n",
        "call_count = 0  # Reset the call count\n",
        "path = find_hamiltonian_circuit(G)\n",
        "print(\"Number of calls to hamiltonian_circuit_util:\", call_count)"
      ],
      "metadata": {
        "colab": {
          "base_uri": "https://localhost:8080/"
        },
        "id": "apZVukeyk1Jp",
        "outputId": "a03ddb2f-aedc-4418-e03d-5a29e1d4a580"
      },
      "execution_count": null,
      "outputs": [
        {
          "output_type": "stream",
          "name": "stdout",
          "text": [
            "Hamiltonian circuit exists:\n",
            " [0, 1, 2, 3, 0]\n",
            "Number of calls to hamiltonian_circuit_util: 0\n"
          ]
        }
      ]
    },
    {
      "cell_type": "markdown",
      "source": [
        "By running the modified code on graphs with different values of `n`, you can observe how the number of calls to `hamiltonian_circuit_util` grows. The growth rate will depend on the structure of the graph and the backtracking algorithm's performance."
      ],
      "metadata": {
        "id": "fPBhkeixlDcB"
      }
    }
  ]
}